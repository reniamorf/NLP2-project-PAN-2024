{
  "nbformat": 4,
  "nbformat_minor": 0,
  "metadata": {
    "colab": {
      "provenance": [],
      "gpuType": "T4"
    },
    "kernelspec": {
      "name": "python3",
      "display_name": "Python 3"
    },
    "language_info": {
      "name": "python"
    },
    "accelerator": "GPU"
  },
  "cells": [
    {
      "cell_type": "code",
      "source": [
        "import pandas as pd\n",
        "import numpy as np\n",
        "from keras.preprocessing.text import Tokenizer\n",
        "from keras.preprocessing.sequence import pad_sequences\n",
        "from keras.models import Model\n",
        "from keras.layers import Input, Embedding, LSTM, Concatenate, Dropout, Dense\n",
        "from keras.optimizers import Adam\n",
        "from keras.callbacks import ModelCheckpoint, CSVLogger, EarlyStopping, ReduceLROnPlateau, Callback\n",
        "from keras.regularizers import l2\n",
        "from sklearn.metrics import f1_score\n",
        "import matplotlib.pyplot as plt"
      ],
      "metadata": {
        "id": "wietztGzP493"
      },
      "execution_count": null,
      "outputs": []
    },
    {
      "cell_type": "code",
      "source": [
        "def load_data(csv_file):\n",
        "    df = pd.read_csv(csv_file)\n",
        "    text1 = df['paragraph1'].values\n",
        "    text2 = df['paragraph2'].values\n",
        "    labels = df['change'].values\n",
        "    return text1, text2, labels\n",
        "\n",
        "def load_glove_embeddings(glove_file):\n",
        "    embeddings_index = {}\n",
        "    with open(glove_file, 'r', encoding='utf-8') as f:\n",
        "        for line in f:\n",
        "            values = line.split()\n",
        "            word = values[0]\n",
        "            coefs = np.asarray(values[1:], dtype='float32')\n",
        "            embeddings_index[word] = coefs\n",
        "    return embeddings_index\n",
        "\n",
        "def prepare_embedding_matrix(word_index, embeddings_index, EMBEDDING_DIM=50):\n",
        "    embedding_matrix = np.zeros((len(word_index) + 1, EMBEDDING_DIM))\n",
        "    for word, i in word_index.items():\n",
        "        embedding_vector = embeddings_index.get(word)\n",
        "        if embedding_vector is not None:\n",
        "            embedding_matrix[i] = embedding_vector\n",
        "    return embedding_matrix\n",
        "\n",
        "def preprocess_texts(texts1, texts2, tokenizer, max_len=None):\n",
        "    sequences1 = tokenizer.texts_to_sequences(texts1)\n",
        "    sequences2 = tokenizer.texts_to_sequences(texts2)\n",
        "    if not max_len:\n",
        "        max_len = max(max(len(seq) for seq in sequences1), max(len(seq) for seq in sequences2))\n",
        "    data1 = pad_sequences(sequences1, maxlen=max_len)\n",
        "    data2 = pad_sequences(sequences2, maxlen=max_len)\n",
        "    return data1, data2, max_len\n",
        "\n",
        "def build_model(input_shape, embedding_matrix):\n",
        "    input1 = Input(shape=(input_shape,))\n",
        "    input2 = Input(shape=(input_shape,))\n",
        "\n",
        "    shared_embedding = Embedding(embedding_matrix.shape[0], embedding_matrix.shape[1],\n",
        "                                 weights=[embedding_matrix], trainable=False)\n",
        "\n",
        "    embedded1 = shared_embedding(input1)\n",
        "    embedded2 = shared_embedding(input2)\n",
        "\n",
        "    lstm1 = LSTM(128, kernel_regularizer=l2(0.01))(embedded1)\n",
        "    lstm2 = LSTM(128, kernel_regularizer=l2(0.01))(embedded2)\n",
        "\n",
        "    concatenated = Concatenate()([lstm1, lstm2])\n",
        "    x = Dropout(0.7)(concatenated)\n",
        "    output = Dense(1, activation='sigmoid', kernel_regularizer=l2(0.01))(x)\n",
        "\n",
        "    model = Model(inputs=[input1, input2], outputs=output)\n",
        "    model.compile(loss='binary_crossentropy', optimizer=Adam(), metrics=['accuracy'])\n",
        "    model.summary()\n",
        "    return model\n",
        "\n",
        "class F1ScoreCallback(Callback):\n",
        "    def __init__(self, train_data, validation_data):\n",
        "        super(F1ScoreCallback, self).__init__()\n",
        "        self.train_data = train_data\n",
        "        self.validation_data = validation_data\n",
        "        self.train_f1s = []\n",
        "        self.val_f1s = []\n",
        "\n",
        "    def on_epoch_end(self, epoch, logs=None):\n",
        "        val_predict = (np.asarray(self.model.predict(self.validation_data[0])) > 0.5).astype(int)\n",
        "        val_targ = self.validation_data[1]\n",
        "        val_f1 = f1_score(val_targ, val_predict)\n",
        "        self.val_f1s.append(val_f1)\n",
        "\n",
        "        train_predict = (np.asarray(self.model.predict(self.train_data[0])) > 0.5).astype(int)\n",
        "        train_targ = self.train_data[1]\n",
        "        train_f1 = f1_score(train_targ, train_predict)\n",
        "        self.train_f1s.append(train_f1)\n",
        "\n",
        "        print(f'— val_f1: {val_f1} — train_f1: {train_f1}')"
      ],
      "metadata": {
        "id": "V4tRZGd9P9Qx"
      },
      "execution_count": null,
      "outputs": []
    },
    {
      "cell_type": "code",
      "source": [
        "def compile_and_train(model, X_train1, X_train2, y_train, X_val1, X_val2, y_val):\n",
        "    f1_callback = F1ScoreCallback(train_data=([X_train1, X_train2], y_train), validation_data=([X_val1, X_val2], y_val))\n",
        "\n",
        "    callbacks = [\n",
        "        ModelCheckpoint('model_best.h5', save_best_only=True, monitor='val_loss', mode='min'),\n",
        "        CSVLogger('training_log.csv'),\n",
        "        EarlyStopping(monitor='val_loss', patience=30, verbose=1),\n",
        "        ReduceLROnPlateau(monitor='val_loss', factor=0.2, patience=5, min_lr=0.001),\n",
        "        f1_callback\n",
        "    ]\n",
        "\n",
        "    history = model.fit([X_train1, X_train2], y_train, validation_data=([X_val1, X_val2], y_val), epochs=5, batch_size=8, callbacks=callbacks)\n",
        "\n",
        "    model.load_weights('model_best.h5')\n",
        "\n",
        "    val_preds = (model.predict([X_val1, X_val2]) > 0.5).astype(int)\n",
        "    val_f1 = f1_score(y_val, val_preds)\n",
        "\n",
        "    train_preds = (model.predict([X_train1, X_train2]) > 0.5).astype(int)\n",
        "    train_f1 = f1_score(y_train, train_preds)\n",
        "\n",
        "    # Plotting F1 scores\n",
        "    plt.figure(figsize=(10, 6))\n",
        "    epochs = range(1, len(f1_callback.train_f1s) + 1)\n",
        "    plt.plot(epochs, f1_callback.train_f1s, 'b-', label='Training F1 Score')\n",
        "    plt.plot(epochs, f1_callback.val_f1s, 'r-', label='Validation F1 Score')\n",
        "    plt.xlabel('Epochs')\n",
        "    plt.ylabel('F1 Score')\n",
        "    plt.ylim(0.700, 0.800)  # Set the y-axis limit\n",
        "    plt.title('Training and Validation F1 Scores')\n",
        "    plt.legend()\n",
        "    plt.show()\n",
        "\n",
        "    return train_f1, val_f1\n",
        "\n",
        "\n",
        "def main(train_csv, glove_file, val_csv):\n",
        "    tokenizer = Tokenizer(num_words=10000)\n",
        "\n",
        "    train_text1, train_text2, train_labels = load_data(train_csv)\n",
        "    val_text1, val_text2, val_labels = load_data(val_csv)\n",
        "\n",
        "    tokenizer.fit_on_texts(list(train_text1) + list(train_text2) + list(val_text1) + list(val_text2))\n",
        "\n",
        "    max_len = max([\n",
        "        len(s) for s in tokenizer.texts_to_sequences(list(train_text1) + list(train_text2) +\n",
        "                                                     list(val_text1) + list(val_text2))\n",
        "    ])\n",
        "\n",
        "    train_sequences1, train_sequences2, _ = preprocess_texts(train_text1, train_text2, tokenizer, max_len)\n",
        "    val_sequences1, val_sequences2, _ = preprocess_texts(val_text1, val_text2, tokenizer, max_len)\n",
        "\n",
        "    embeddings_index = load_glove_embeddings(glove_file)\n",
        "    embedding_matrix = prepare_embedding_matrix(tokenizer.word_index, embeddings_index)\n",
        "\n",
        "    model = build_model(max_len, embedding_matrix)\n",
        "    train_f1, val_f1 = compile_and_train(model, train_sequences1, train_sequences2, train_labels,\n",
        "                                         val_sequences1, val_sequences2, val_labels)\n",
        "\n",
        "    print(f'F1 Score on Training Set: {train_f1}')\n",
        "    print(f'F1 Score on Validation Set: {val_f1}')\n",
        "\n",
        "if __name__ == \"__main__\":\n",
        "    main('/content/train.csv', 'glove.6B.50d.txt', '/content/val.csv')"
      ],
      "metadata": {
        "colab": {
          "base_uri": "https://localhost:8080/",
          "height": 1000
        },
        "id": "ipMku-wIQOA9",
        "outputId": "f063f56b-15cb-42fb-e931-085ca823364a"
      },
      "execution_count": null,
      "outputs": [
        {
          "output_type": "stream",
          "name": "stdout",
          "text": [
            "Model: \"model_6\"\n",
            "__________________________________________________________________________________________________\n",
            " Layer (type)                Output Shape                 Param #   Connected to                  \n",
            "==================================================================================================\n",
            " input_13 (InputLayer)       [(None, 393)]                0         []                            \n",
            "                                                                                                  \n",
            " input_14 (InputLayer)       [(None, 393)]                0         []                            \n",
            "                                                                                                  \n",
            " embedding_6 (Embedding)     (None, 393, 50)              1915000   ['input_13[0][0]',            \n",
            "                                                                     'input_14[0][0]']            \n",
            "                                                                                                  \n",
            " lstm_12 (LSTM)              (None, 128)                  91648     ['embedding_6[0][0]']         \n",
            "                                                                                                  \n",
            " lstm_13 (LSTM)              (None, 128)                  91648     ['embedding_6[1][0]']         \n",
            "                                                                                                  \n",
            " concatenate_6 (Concatenate  (None, 256)                  0         ['lstm_12[0][0]',             \n",
            " )                                                                   'lstm_13[0][0]']             \n",
            "                                                                                                  \n",
            " dropout_6 (Dropout)         (None, 256)                  0         ['concatenate_6[0][0]']       \n",
            "                                                                                                  \n",
            " dense_6 (Dense)             (None, 1)                    257       ['dropout_6[0][0]']           \n",
            "                                                                                                  \n",
            "==================================================================================================\n",
            "Total params: 2098553 (8.01 MB)\n",
            "Trainable params: 183553 (717.00 KB)\n",
            "Non-trainable params: 1915000 (7.31 MB)\n",
            "__________________________________________________________________________________________________\n",
            "Epoch 1/5\n",
            "2737/2739 [============================>.] - ETA: 0s - loss: 0.6515 - accuracy: 0.6588"
          ]
        },
        {
          "output_type": "stream",
          "name": "stderr",
          "text": [
            "/usr/local/lib/python3.10/dist-packages/keras/src/engine/training.py:3103: UserWarning: You are saving your model as an HDF5 file via `model.save()`. This file format is considered legacy. We recommend using instead the native Keras format, e.g. `model.save('my_model.keras')`.\n",
            "  saving_api.save_model(\n"
          ]
        },
        {
          "output_type": "stream",
          "name": "stdout",
          "text": [
            "144/144 [==============================] - 2s 10ms/step\n",
            "685/685 [==============================] - 7s 11ms/step\n",
            "— val_f1: 0.7481688175793513 — train_f1: 0.745072225269702\n",
            "2739/2739 [==============================] - 105s 37ms/step - loss: 0.6514 - accuracy: 0.6589 - val_loss: 0.5706 - val_accuracy: 0.6855 - lr: 0.0010\n",
            "Epoch 2/5\n",
            "144/144 [==============================] - 2s 10ms/step\n",
            "685/685 [==============================] - 8s 12ms/step\n",
            "— val_f1: 0.772767990444909 — train_f1: 0.7710581138646186\n",
            "2739/2739 [==============================] - 99s 36ms/step - loss: 0.6305 - accuracy: 0.6582 - val_loss: 0.5919 - val_accuracy: 0.6686 - lr: 0.0010\n",
            "Epoch 3/5\n",
            "144/144 [==============================] - 2s 10ms/step\n",
            "685/685 [==============================] - 8s 12ms/step\n",
            "— val_f1: 0.7732297579922318 — train_f1: 0.7710543508695518\n",
            "2739/2739 [==============================] - 100s 37ms/step - loss: 0.6658 - accuracy: 0.6324 - val_loss: 0.6491 - val_accuracy: 0.6694 - lr: 0.0010\n",
            "Epoch 4/5\n",
            "  4/144 [..............................] - ETA: 2s"
          ]
        },
        {
          "output_type": "stream",
          "name": "stderr",
          "text": [
            "/usr/local/lib/python3.10/dist-packages/keras/src/engine/training.py:3103: UserWarning: You are saving your model as an HDF5 file via `model.save()`. This file format is considered legacy. We recommend using instead the native Keras format, e.g. `model.save('my_model.keras')`.\n",
            "  saving_api.save_model(\n"
          ]
        },
        {
          "output_type": "stream",
          "name": "stdout",
          "text": [
            "144/144 [==============================] - 2s 11ms/step\n",
            "685/685 [==============================] - 7s 10ms/step\n",
            "— val_f1: 0.773474001507159 — train_f1: 0.769351645243408\n",
            "2739/2739 [==============================] - 104s 38ms/step - loss: 0.6113 - accuracy: 0.6529 - val_loss: 0.5647 - val_accuracy: 0.6727 - lr: 0.0010\n",
            "Epoch 5/5\n",
            "  6/144 [>.............................] - ETA: 1s"
          ]
        },
        {
          "output_type": "stream",
          "name": "stderr",
          "text": [
            "/usr/local/lib/python3.10/dist-packages/keras/src/engine/training.py:3103: UserWarning: You are saving your model as an HDF5 file via `model.save()`. This file format is considered legacy. We recommend using instead the native Keras format, e.g. `model.save('my_model.keras')`.\n",
            "  saving_api.save_model(\n"
          ]
        },
        {
          "output_type": "stream",
          "name": "stdout",
          "text": [
            "144/144 [==============================] - 2s 11ms/step\n",
            "685/685 [==============================] - 8s 12ms/step\n",
            "— val_f1: 0.7712574850299401 — train_f1: 0.769187587712459\n",
            "2739/2739 [==============================] - 101s 37ms/step - loss: 0.6019 - accuracy: 0.6567 - val_loss: 0.5636 - val_accuracy: 0.6672 - lr: 0.0010\n",
            "144/144 [==============================] - 2s 11ms/step\n",
            "685/685 [==============================] - 8s 12ms/step\n"
          ]
        },
        {
          "output_type": "display_data",
          "data": {
            "text/plain": [
              "<Figure size 1000x600 with 1 Axes>"
            ],
            "image/png": "[encoded data removed]"
          },
          "metadata": {}
        },
        {
          "output_type": "stream",
          "name": "stdout",
          "text": [
            "F1 Score on Training Set: 0.769187587712459\n",
            "F1 Score on Validation Set: 0.7712574850299401\n"
          ]
        }
      ]
    }
  ]
}